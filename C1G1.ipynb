{
 "cells": [
  {
   "cell_type": "code",
   "execution_count": 31,
   "id": "83ca2be7-8700-4806-8255-07c098e05964",
   "metadata": {},
   "outputs": [
    {
     "data": {
      "application/vnd.jupyter.widget-view+json": {
       "model_id": "a96147d237454001bb4795c131d5186a",
       "version_major": 2,
       "version_minor": 0
      },
      "text/plain": [
       "interactive(children=(IntSlider(value=18, description='sample_size', max=200, min=2), Output()), _dom_classes=…"
      ]
     },
     "metadata": {},
     "output_type": "display_data"
    }
   ],
   "source": [
    "# nbi:hide_in \n",
    "import pandas as pd\n",
    "import seaborn as sns\n",
    "import numpy as np\n",
    "import matplotlib.pyplot as plt\n",
    "from ipywidgets import interact, interactive, fixed, interact_manual\n",
    "import ipywidgets as widgets\n",
    "import random\n",
    "\n",
    "#@title One sample from heights distribution\n",
    "data2 = pd.read_csv(\"data2.csv\")\n",
    "\n",
    "heightSim = data2['Height']\n",
    "\n",
    "def changeSampleSize(sample_size=18):\n",
    "  np.random.seed(4)\n",
    "  SampledHeight=random.choices(heightSim, k=sample_size)\n",
    "  meanHgt=np.mean(SampledHeight)\n",
    "  print(\"Sample size:\", sample_size)\n",
    "  print(\"Sample mean:\", meanHgt)\n",
    "  print(\"Sample variance:\", np.var(SampledHeight))\n",
    "\n",
    "  sns.displot(SampledHeight,bins=10, kde=False, rug=True, height=6, color = \"mediumpurple\");\n",
    "\n",
    "  plt.xlim(140, 220)\n",
    "  plt.xlabel('Height');\n",
    "  plt.ylabel('Frequency');\n",
    "  plt.axvline(x=meanHgt, color='purple', linestyle='-', linewidth = 3, label=meanHgt);\n",
    "  plt.legend ();\n",
    "_=interact(changeSampleSize,sample_size=(2,200))"
   ]
  },
  {
   "cell_type": "code",
   "execution_count": null,
   "id": "025374c1-175f-4293-a0b7-2956023189de",
   "metadata": {},
   "outputs": [],
   "source": []
  }
 ],
 "metadata": {
  "kernelspec": {
   "display_name": "Python 3 (ipykernel)",
   "language": "python",
   "name": "python3"
  },
  "language_info": {
   "codemirror_mode": {
    "name": "ipython",
    "version": 3
   },
   "file_extension": ".py",
   "mimetype": "text/x-python",
   "name": "python",
   "nbconvert_exporter": "python",
   "pygments_lexer": "ipython3",
   "version": "3.7.12"
  }
 },
 "nbformat": 4,
 "nbformat_minor": 5
}
